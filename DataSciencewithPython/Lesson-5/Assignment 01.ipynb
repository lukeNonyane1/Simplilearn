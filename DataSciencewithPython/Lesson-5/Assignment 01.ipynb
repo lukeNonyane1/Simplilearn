{
 "cells": [
  {
   "cell_type": "markdown",
   "metadata": {},
   "source": [
    "<img src=\"http://cfs22.simplicdn.net/ice9/new_logo.svgz \"/>\n",
    "\n",
    "# Assignment 01: Evaluate the GDP Dataset\n",
    "\n",
    "*The comments/sections provided are your cues to perform the assignment. You don't need to limit yourself to the number of rows/cells provided. You can add additional rows in each section to add more lines of code.*\n",
    "\n",
    "*If at any point in time you need help on solving this assignment, view our demo video to understand the different steps of the code.*\n",
    "\n",
    "**Happy coding!**\n",
    "\n",
    "* * *"
   ]
  },
  {
   "cell_type": "markdown",
   "metadata": {},
   "source": [
    "#### 1: View and add the dataset"
   ]
  },
  {
   "cell_type": "code",
   "execution_count": 1,
   "metadata": {},
   "outputs": [],
   "source": [
    "#Import required library\n",
    "import numpy as np"
   ]
  },
  {
   "cell_type": "code",
   "execution_count": 2,
   "metadata": {},
   "outputs": [],
   "source": [
    "#Manually add the dataset\n",
    "countries = np.array(['Algeria','Angola','Argentina','Australia','Austria','Bahamas','Bangladesh','Belarus','Belgium','Bhutan','Brazil','Bulgaria','Cambodia','Cameroon','Chile','China','Colombia','Cyprus','Denmark','El Salvador','Estonia','Ethiopia','Fiji','Finland','France','Georgia','Ghana','Grenada','Guinea','Haiti','Honduras','Hungary','India','Indonesia','Ireland','Italy','Japan','Kenya', 'South Korea','Liberia','Malaysia','Mexico', 'Morocco','Nepal','New Zealand','Norway','Pakistan', 'Peru','Qatar','Russia','Singapore','South Africa','Spain','Sweden','Switzerland','Thailand', 'United Arab Emirates','United Kingdom','United States','Uruguay','Venezuela','Vietnam','Zimbabwe'\n",
    "])"
   ]
  },
  {
   "cell_type": "code",
   "execution_count": 3,
   "metadata": {},
   "outputs": [],
   "source": [
    "#countries"
   ]
  },
  {
   "cell_type": "code",
   "execution_count": 4,
   "metadata": {},
   "outputs": [],
   "source": [
    "gdp_per_country = np.array([2255.225482,629.9553062,11601.63022,25306.82494,27266.40335,19466.99052,588.3691778,2890.345675,24733.62696,1445.760002,4803.398244,2618.876037,590.4521124,665.7982328,7122.938458,2639.54156,3362.4656,15378.16704,30860.12808,2579.115607,6525.541272,229.6769525,2242.689259,27570.4852,23016.84778,1334.646773,402.6953275,6047.200797,394.1156638,385.5793827,1414.072488,5745.981529,837.7464011,1206.991065,27715.52837,18937.24998,39578.07441,478.2194906,16684.21278,279.2204061,5345.213415,6288.25324,1908.304416,274.8728621,14646.42094,40034.85063,672.1547506,3359.517402,36152.66676,3054.727742,33529.83052,3825.093781,15428.32098,33630.24604,39170.41371,2699.123242,21058.43643,28272.40661,37691.02733,9581.05659,5671.912202,757.4009286,347.7456605])"
   ]
  },
  {
   "cell_type": "code",
   "execution_count": 5,
   "metadata": {},
   "outputs": [],
   "source": [
    "#gdp_per_country"
   ]
  },
  {
   "cell_type": "code",
   "execution_count": 6,
   "metadata": {},
   "outputs": [],
   "source": [
    "#Combine numpy arrays into dict\n",
    "country_and_gdp = {}\n",
    "for country, gdp in zip(countries, gdp_per_country):\n",
    "    country_and_gdp[country] = gdp"
   ]
  },
  {
   "cell_type": "code",
   "execution_count": 7,
   "metadata": {},
   "outputs": [
    {
     "data": {
      "text/plain": [
       "{'Algeria': 2255.225482,\n",
       " 'Angola': 629.9553062,\n",
       " 'Argentina': 11601.63022,\n",
       " 'Australia': 25306.82494,\n",
       " 'Austria': 27266.40335,\n",
       " 'Bahamas': 19466.99052,\n",
       " 'Bangladesh': 588.3691778,\n",
       " 'Belarus': 2890.345675,\n",
       " 'Belgium': 24733.62696,\n",
       " 'Bhutan': 1445.760002,\n",
       " 'Brazil': 4803.398244,\n",
       " 'Bulgaria': 2618.876037,\n",
       " 'Cambodia': 590.4521124,\n",
       " 'Cameroon': 665.7982328,\n",
       " 'Chile': 7122.938458,\n",
       " 'China': 2639.54156,\n",
       " 'Colombia': 3362.4656,\n",
       " 'Cyprus': 15378.16704,\n",
       " 'Denmark': 30860.12808,\n",
       " 'El Salvador': 2579.115607,\n",
       " 'Estonia': 6525.541272,\n",
       " 'Ethiopia': 229.6769525,\n",
       " 'Fiji': 2242.689259,\n",
       " 'Finland': 27570.4852,\n",
       " 'France': 23016.84778,\n",
       " 'Georgia': 1334.646773,\n",
       " 'Ghana': 402.6953275,\n",
       " 'Grenada': 6047.200797,\n",
       " 'Guinea': 394.1156638,\n",
       " 'Haiti': 385.5793827,\n",
       " 'Honduras': 1414.072488,\n",
       " 'Hungary': 5745.981529,\n",
       " 'India': 837.7464011,\n",
       " 'Indonesia': 1206.991065,\n",
       " 'Ireland': 27715.52837,\n",
       " 'Italy': 18937.24998,\n",
       " 'Japan': 39578.07441,\n",
       " 'Kenya': 478.2194906,\n",
       " 'South Korea': 16684.21278,\n",
       " 'Liberia': 279.2204061,\n",
       " 'Malaysia': 5345.213415,\n",
       " 'Mexico': 6288.25324,\n",
       " 'Morocco': 1908.304416,\n",
       " 'Nepal': 274.8728621,\n",
       " 'New Zealand': 14646.42094,\n",
       " 'Norway': 40034.85063,\n",
       " 'Pakistan': 672.1547506,\n",
       " 'Peru': 3359.517402,\n",
       " 'Qatar': 36152.66676,\n",
       " 'Russia': 3054.727742,\n",
       " 'Singapore': 33529.83052,\n",
       " 'South Africa': 3825.093781,\n",
       " 'Spain': 15428.32098,\n",
       " 'Sweden': 33630.24604,\n",
       " 'Switzerland': 39170.41371,\n",
       " 'Thailand': 2699.123242,\n",
       " 'United Arab Emirates': 21058.43643,\n",
       " 'United Kingdom': 28272.40661,\n",
       " 'United States': 37691.02733,\n",
       " 'Uruguay': 9581.05659,\n",
       " 'Venezuela': 5671.912202,\n",
       " 'Vietnam': 757.4009286,\n",
       " 'Zimbabwe': 347.7456605}"
      ]
     },
     "execution_count": 7,
     "metadata": {},
     "output_type": "execute_result"
    }
   ],
   "source": [
    "country_and_gdp"
   ]
  },
  {
   "cell_type": "markdown",
   "metadata": {},
   "source": [
    "#### 2: Find and print the name of the country with the highest GDP"
   ]
  },
  {
   "cell_type": "code",
   "execution_count": 22,
   "metadata": {
    "collapsed": false,
    "jupyter": {
     "outputs_hidden": false
    }
   },
   "outputs": [
    {
     "data": {
      "text/plain": [
       "45"
      ]
     },
     "execution_count": 22,
     "metadata": {},
     "output_type": "execute_result"
    }
   ],
   "source": [
    "#Use the argmax() method to find the highest GDP\n",
    "max_gdp_per_capita = gdp_per_country.argmax()\n",
    "max_gdp_per_capita"
   ]
  },
  {
   "cell_type": "code",
   "execution_count": 23,
   "metadata": {},
   "outputs": [],
   "source": [
    "country_with_max_gdp_per_capita = countries[max_gdp_per_capita]"
   ]
  },
  {
   "cell_type": "code",
   "execution_count": 24,
   "metadata": {},
   "outputs": [
    {
     "data": {
      "text/plain": [
       "'Norway'"
      ]
     },
     "execution_count": 24,
     "metadata": {},
     "output_type": "execute_result"
    }
   ],
   "source": [
    "country_with_max_gdp_per_capita"
   ]
  },
  {
   "cell_type": "markdown",
   "metadata": {},
   "source": [
    "#### 3: Find and print the name of the country with the lowest GDP"
   ]
  },
  {
   "cell_type": "code",
   "execution_count": 26,
   "metadata": {},
   "outputs": [],
   "source": [
    "#Use the argmin() method to find the lowest GDP\n",
    "lowest_gdp_per_capita = gdp_per_country.argmin()"
   ]
  },
  {
   "cell_type": "code",
   "execution_count": 27,
   "metadata": {},
   "outputs": [],
   "source": [
    "country_with_lowest_gdp_per_capita = countries[lowest_gdp_per_capita]"
   ]
  },
  {
   "cell_type": "code",
   "execution_count": 29,
   "metadata": {},
   "outputs": [
    {
     "data": {
      "text/plain": [
       "'Ethiopia'"
      ]
     },
     "execution_count": 29,
     "metadata": {},
     "output_type": "execute_result"
    }
   ],
   "source": [
    "#Print the name of the country\n",
    "country_with_lowest_gdp_per_capita"
   ]
  },
  {
   "cell_type": "markdown",
   "metadata": {},
   "source": [
    "#### 4: Print out text ('evaluating country') and input value ('country name') iteratively"
   ]
  },
  {
   "cell_type": "code",
   "execution_count": 34,
   "metadata": {
    "collapsed": false,
    "jupyter": {
     "outputs_hidden": false
    }
   },
   "outputs": [
    {
     "name": "stdout",
     "output_type": "stream",
     "text": [
      "evaluating country Algeria\n",
      "evaluating country Angola\n",
      "evaluating country Argentina\n",
      "evaluating country Australia\n",
      "evaluating country Austria\n",
      "evaluating country Bahamas\n",
      "evaluating country Bangladesh\n",
      "evaluating country Belarus\n",
      "evaluating country Belgium\n",
      "evaluating country Bhutan\n",
      "evaluating country Brazil\n",
      "evaluating country Bulgaria\n",
      "evaluating country Cambodia\n",
      "evaluating country Cameroon\n",
      "evaluating country Chile\n",
      "evaluating country China\n",
      "evaluating country Colombia\n",
      "evaluating country Cyprus\n",
      "evaluating country Denmark\n",
      "evaluating country El Salvador\n",
      "evaluating country Estonia\n",
      "evaluating country Ethiopia\n",
      "evaluating country Fiji\n",
      "evaluating country Finland\n",
      "evaluating country France\n",
      "evaluating country Georgia\n",
      "evaluating country Ghana\n",
      "evaluating country Grenada\n",
      "evaluating country Guinea\n",
      "evaluating country Haiti\n",
      "evaluating country Honduras\n",
      "evaluating country Hungary\n",
      "evaluating country India\n",
      "evaluating country Indonesia\n",
      "evaluating country Ireland\n",
      "evaluating country Italy\n",
      "evaluating country Japan\n",
      "evaluating country Kenya\n",
      "evaluating country South Korea\n",
      "evaluating country Liberia\n",
      "evaluating country Malaysia\n",
      "evaluating country Mexico\n",
      "evaluating country Morocco\n",
      "evaluating country Nepal\n",
      "evaluating country New Zealand\n",
      "evaluating country Norway\n",
      "evaluating country Pakistan\n",
      "evaluating country Peru\n",
      "evaluating country Qatar\n",
      "evaluating country Russia\n",
      "evaluating country Singapore\n",
      "evaluating country South Africa\n",
      "evaluating country Spain\n",
      "evaluating country Sweden\n",
      "evaluating country Switzerland\n",
      "evaluating country Thailand\n",
      "evaluating country United Arab Emirates\n",
      "evaluating country United Kingdom\n",
      "evaluating country United States\n",
      "evaluating country Uruguay\n",
      "evaluating country Venezuela\n",
      "evaluating country Vietnam\n",
      "evaluating country Zimbabwe\n"
     ]
    }
   ],
   "source": [
    "#Use a for loop to print the required output\n",
    "for country in countries:\n",
    "    #print (\"evaluating country\" + \" \" + country)\n",
    "    print (\"evaluating country {}\".format(country))"
   ]
  },
  {
   "cell_type": "markdown",
   "metadata": {},
   "source": [
    "#### 5: Print out the entire list of the countries with their GDPs"
   ]
  },
  {
   "cell_type": "code",
   "execution_count": 38,
   "metadata": {
    "collapsed": false,
    "jupyter": {
     "outputs_hidden": false
    }
   },
   "outputs": [
    {
     "name": "stdout",
     "output_type": "stream",
     "text": [
      "Algeria 2255.225482\n",
      "Angola 629.9553062\n",
      "Argentina 11601.63022\n",
      "Australia 25306.82494\n",
      "Austria 27266.40335\n",
      "Bahamas 19466.99052\n",
      "Bangladesh 588.3691778\n",
      "Belarus 2890.345675\n",
      "Belgium 24733.62696\n",
      "Bhutan 1445.760002\n",
      "Brazil 4803.398244\n",
      "Bulgaria 2618.876037\n",
      "Cambodia 590.4521124\n",
      "Cameroon 665.7982328\n",
      "Chile 7122.938458\n",
      "China 2639.54156\n",
      "Colombia 3362.4656\n",
      "Cyprus 15378.16704\n",
      "Denmark 30860.12808\n",
      "El Salvador 2579.115607\n",
      "Estonia 6525.541272\n",
      "Ethiopia 229.6769525\n",
      "Fiji 2242.689259\n",
      "Finland 27570.4852\n",
      "France 23016.84778\n",
      "Georgia 1334.646773\n",
      "Ghana 402.6953275\n",
      "Grenada 6047.200797\n",
      "Guinea 394.1156638\n",
      "Haiti 385.5793827\n",
      "Honduras 1414.072488\n",
      "Hungary 5745.981529\n",
      "India 837.7464011\n",
      "Indonesia 1206.991065\n",
      "Ireland 27715.52837\n",
      "Italy 18937.24998\n",
      "Japan 39578.07441\n",
      "Kenya 478.2194906\n",
      "South Korea 16684.21278\n",
      "Liberia 279.2204061\n",
      "Malaysia 5345.213415\n",
      "Mexico 6288.25324\n",
      "Morocco 1908.304416\n",
      "Nepal 274.8728621\n",
      "New Zealand 14646.42094\n",
      "Norway 40034.85063\n",
      "Pakistan 672.1547506\n",
      "Peru 3359.517402\n",
      "Qatar 36152.66676\n",
      "Russia 3054.727742\n",
      "Singapore 33529.83052\n",
      "South Africa 3825.093781\n",
      "Spain 15428.32098\n",
      "Sweden 33630.24604\n",
      "Switzerland 39170.41371\n",
      "Thailand 2699.123242\n",
      "United Arab Emirates 21058.43643\n",
      "United Kingdom 28272.40661\n",
      "United States 37691.02733\n",
      "Uruguay 9581.05659\n",
      "Venezuela 5671.912202\n",
      "Vietnam 757.4009286\n",
      "Zimbabwe 347.7456605\n"
     ]
    }
   ],
   "source": [
    "#Use a for loop to print the required list\n",
    "for country in country_and_gdp.keys():\n",
    "    print(country, country_and_gdp[country])"
   ]
  },
  {
   "cell_type": "markdown",
   "metadata": {},
   "source": [
    "#### 6: Print the following:\n",
    "1. Highest GPD value\n",
    "2. Lowest GDP value\n",
    "3. Mean GDP value\n",
    "4. Standardized GDP value\n",
    "5. Sum of all the GDPs"
   ]
  },
  {
   "cell_type": "code",
   "execution_count": 49,
   "metadata": {},
   "outputs": [
    {
     "data": {
      "text/plain": [
       "40034.85063"
      ]
     },
     "execution_count": 49,
     "metadata": {},
     "output_type": "execute_result"
    }
   ],
   "source": [
    "# 1. Highest GPD value\n",
    "gdp_per_country[max_gdp_per_capita]"
   ]
  },
  {
   "cell_type": "code",
   "execution_count": 48,
   "metadata": {},
   "outputs": [
    {
     "data": {
      "text/plain": [
       "229.6769525"
      ]
     },
     "execution_count": 48,
     "metadata": {},
     "output_type": "execute_result"
    }
   ],
   "source": [
    "# 2. Lowest GDP value\n",
    "gdp_per_country[lowest_gdp_per_capita]"
   ]
  },
  {
   "cell_type": "code",
   "execution_count": 53,
   "metadata": {},
   "outputs": [
    {
     "data": {
      "text/plain": [
       "11289.409271639683"
      ]
     },
     "execution_count": 53,
     "metadata": {},
     "output_type": "execute_result"
    }
   ],
   "source": [
    "# 3. Mean GDP value\n",
    "mean_gdp = gdp_per_country.mean()\n",
    "mean_gdp"
   ]
  },
  {
   "cell_type": "code",
   "execution_count": 58,
   "metadata": {},
   "outputs": [
    {
     "data": {
      "text/plain": [
       "array([ -9034.18378964, -10659.45396544,    312.22094836,  14017.41566836,\n",
       "        15976.99407836,   8177.58124836, -10701.04009384,  -8399.06359664,\n",
       "        13444.21768836,  -9843.64926964,  -6486.01102764,  -8670.53323464,\n",
       "       -10698.95715924, -10623.61103884,  -4166.47081364,  -8649.86771164,\n",
       "        -7926.94367164,   4088.75776836,  19570.71880836,  -8710.29366464,\n",
       "        -4763.86799964, -11059.73231914,  -9046.72001264,  16281.07592836,\n",
       "        11727.43850836,  -9954.76249864, -10886.71394414,  -5242.20847464,\n",
       "       -10895.29360784, -10903.82988894,  -9875.33678364,  -5543.42774264,\n",
       "       -10451.66287054, -10082.41820664,  16426.11909836,   7647.84070836,\n",
       "        28288.66513836, -10811.18978104,   5394.80350836, -11010.18886554,\n",
       "        -5944.19585664,  -5001.15603164,  -9381.10485564, -11014.53640954,\n",
       "         3357.01166836,  28745.44135836, -10617.25452104,  -7929.89186964,\n",
       "        24863.25748836,  -8234.68152964,  22240.42124836,  -7464.31549064,\n",
       "         4138.91170836,  22340.83676836,  27881.00443836,  -8590.28602964,\n",
       "         9769.02715836,  16982.99733836,  26401.61805836,  -1708.35268164,\n",
       "        -5617.49706964, -10532.00834304, -10941.66361114])"
      ]
     },
     "execution_count": 58,
     "metadata": {},
     "output_type": "execute_result"
    }
   ],
   "source": [
    "# 4. Standardized GDP value\n",
    "# value - mean\n",
    "difference_from_mean = gdp_per_country - mean_gdp\n",
    "difference_from_mean"
   ]
  },
  {
   "cell_type": "code",
   "execution_count": 59,
   "metadata": {},
   "outputs": [
    {
     "data": {
      "text/plain": [
       "array([8.16164767e+07, 1.13623959e+08, 9.74819206e+04, 1.96487942e+08,\n",
       "       2.55264340e+08, 6.68728351e+07, 1.14512259e+08, 7.05442693e+07,\n",
       "       1.80746989e+08, 9.68974309e+07, 4.20683391e+07, 7.51781466e+07,\n",
       "       1.14467684e+08, 1.12861112e+08, 1.73594790e+07, 7.48202114e+07,\n",
       "       6.28364360e+07, 1.67179401e+07, 3.83013035e+08, 7.58692157e+07,\n",
       "       2.26944383e+07, 1.22317679e+08, 8.18431430e+07, 2.65073433e+08,\n",
       "       1.37532814e+08, 9.90972964e+07, 1.18520541e+08, 2.74807497e+07,\n",
       "       1.18707423e+08, 1.18893506e+08, 9.75222766e+07, 3.07295911e+07,\n",
       "       1.09237257e+08, 1.01655157e+08, 2.69817389e+08, 5.84894675e+07,\n",
       "       8.00248575e+08, 1.16881824e+08, 2.91039049e+07, 1.21224259e+08,\n",
       "       3.53334644e+07, 2.50115617e+07, 8.80051283e+07, 1.21320012e+08,\n",
       "       1.12695273e+07, 8.26300399e+08, 1.12726094e+08, 6.28831851e+07,\n",
       "       6.18181573e+08, 6.78099799e+07, 4.94636337e+08, 5.57160057e+07,\n",
       "       1.71305901e+07, 4.99112988e+08, 7.77350408e+08, 7.37930141e+07,\n",
       "       9.54338916e+07, 2.88422199e+08, 6.97045436e+08, 2.91846888e+06,\n",
       "       3.15562733e+07, 1.10923200e+08, 1.19720003e+08])"
      ]
     },
     "execution_count": 59,
     "metadata": {},
     "output_type": "execute_result"
    }
   ],
   "source": [
    "# square the difference of each data point from the mean\n",
    "difference_squared = np.square(difference_from_mean)\n",
    "difference_squared"
   ]
  },
  {
   "cell_type": "code",
   "execution_count": 60,
   "metadata": {},
   "outputs": [
    {
     "data": {
      "text/plain": [
       "10231526044.095411"
      ]
     },
     "execution_count": 60,
     "metadata": {},
     "output_type": "execute_result"
    }
   ],
   "source": [
    "# sum the difference of squares\n",
    "sum_of_squares = np.sum(difference_squared)\n",
    "sum_of_squares"
   ]
  },
  {
   "cell_type": "code",
   "execution_count": 67,
   "metadata": {},
   "outputs": [
    {
     "data": {
      "text/plain": [
       "12743.828910617945"
      ]
     },
     "execution_count": 67,
     "metadata": {},
     "output_type": "execute_result"
    }
   ],
   "source": [
    "# divide by the number of data points\n",
    "data_points = difference_squared.size\n",
    "standard_deviation = np.sqrt(sum_of_squares / data_points)\n",
    "standard_deviation"
   ]
  },
  {
   "cell_type": "code",
   "execution_count": 69,
   "metadata": {},
   "outputs": [
    {
     "name": "stdout",
     "output_type": "stream",
     "text": [
      "12743.828910617945\n"
     ]
    }
   ],
   "source": [
    "print(gdp_per_country.std())"
   ]
  },
  {
   "cell_type": "code",
   "execution_count": 51,
   "metadata": {},
   "outputs": [
    {
     "data": {
      "text/plain": [
       "711232.7841133"
      ]
     },
     "execution_count": 51,
     "metadata": {},
     "output_type": "execute_result"
    }
   ],
   "source": [
    "# 5. Sum of all the GDPs\n",
    "gdp_per_country.sum()"
   ]
  },
  {
   "cell_type": "code",
   "execution_count": null,
   "metadata": {},
   "outputs": [],
   "source": []
  }
 ],
 "metadata": {
  "kernelspec": {
   "display_name": "Python 3",
   "language": "python",
   "name": "python3"
  },
  "language_info": {
   "codemirror_mode": {
    "name": "ipython",
    "version": 3
   },
   "file_extension": ".py",
   "mimetype": "text/x-python",
   "name": "python",
   "nbconvert_exporter": "python",
   "pygments_lexer": "ipython3",
   "version": "3.8.5"
  }
 },
 "nbformat": 4,
 "nbformat_minor": 4
}
