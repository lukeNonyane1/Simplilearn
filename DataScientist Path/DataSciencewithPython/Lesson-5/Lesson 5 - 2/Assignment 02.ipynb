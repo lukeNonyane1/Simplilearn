{
 "cells": [
  {
   "cell_type": "markdown",
   "metadata": {},
   "source": [
    "<img src=\"http://cfs22.simplicdn.net/ice9/new_logo.svgz \"/>\n",
    "\n",
    "# Assignment 02: Evaluate the Summer Olympics, London 2012 dataset\n",
    "\n",
    "*The comments/sections provided are your cues to perform the assignment. You don't need to limit yourself to the number of rows/cells provided. You can add additional rows in each section to add more lines of code.*\n",
    "\n",
    "*If at any point in time you need help on solving this assignment, view our demo video to understand the different steps of the code.*\n",
    "\n",
    "**Happy coding!**\n",
    "\n",
    "* * *"
   ]
  },
  {
   "cell_type": "markdown",
   "metadata": {},
   "source": [
    "#### 1: View and add the dataset"
   ]
  },
  {
   "cell_type": "code",
   "execution_count": 1,
   "metadata": {},
   "outputs": [],
   "source": [
    "#Import the necessary library\n",
    "import numpy as np"
   ]
  },
  {
   "cell_type": "code",
   "execution_count": 2,
   "metadata": {},
   "outputs": [],
   "source": [
    "#Manually add the Summer Olympics, London 2012 dataset as arrays\n",
    "countries_array = np.array([\"Great Britain\", \"China\", \"Russia\", \"United States\", \"Korea\", \"Japan\", \"Germany\"])\n",
    "country_code_array = np.array([\"GBR\", \"CHN\", \"RUS\", \"US\", \"KOR\", \"JPN\", \"GER\"])\n",
    "year_array = np.array([\"2012\", \"2012\", \"2012\", \"2012\", \"2012\", \"2012\", \"2012\"])\n",
    "gold_medals_array = np.array([29, 38, 24, 46, 13, 7, 11])\n",
    "silver_medals_array = np.array([17, 28, 25, 28, 8, 14, 11])\n",
    "bronze_medals_array = np.array([19, 22, 32, 29, 7, 17, 14])"
   ]
  },
  {
   "cell_type": "code",
   "execution_count": 3,
   "metadata": {},
   "outputs": [],
   "source": [
    "#combine country and gold arrays into dict\n",
    "country_and_gold_medals = {}\n",
    "for country, gold_medals in zip(countries_array, gold_medals_array):\n",
    "    country_and_gold_medals[country] = gold_medals"
   ]
  },
  {
   "cell_type": "markdown",
   "metadata": {},
   "source": [
    "#### Find the country with maximum gold medals"
   ]
  },
  {
   "cell_type": "code",
   "execution_count": 4,
   "metadata": {},
   "outputs": [
    {
     "data": {
      "text/plain": [
       "3"
      ]
     },
     "execution_count": 4,
     "metadata": {},
     "output_type": "execute_result"
    }
   ],
   "source": [
    "#Use the argmax() method to find the highest number of gold medals\n",
    "max_gold_medals = gold_medals_array.argmax()\n",
    "max_gold_medals"
   ]
  },
  {
   "cell_type": "code",
   "execution_count": 5,
   "metadata": {
    "collapsed": false,
    "jupyter": {
     "outputs_hidden": false
    }
   },
   "outputs": [
    {
     "data": {
      "text/plain": [
       "'United States'"
      ]
     },
     "execution_count": 5,
     "metadata": {},
     "output_type": "execute_result"
    }
   ],
   "source": [
    "#Print the name of the country\n",
    "countries_array[max_gold_medals]"
   ]
  },
  {
   "cell_type": "code",
   "execution_count": 9,
   "metadata": {},
   "outputs": [
    {
     "name": "stdout",
     "output_type": "stream",
     "text": [
      "['Great Britain' 'China' 'Russia' 'United States']\n"
     ]
    }
   ],
   "source": [
    "print(countries_array[gold_medals_array>20])"
   ]
  },
  {
   "cell_type": "markdown",
   "metadata": {},
   "source": [
    "#### Find the countries with more than 20 gold medals"
   ]
  },
  {
   "cell_type": "code",
   "execution_count": 6,
   "metadata": {},
   "outputs": [
    {
     "name": "stdout",
     "output_type": "stream",
     "text": [
      "Great Britain\n",
      "China\n",
      "Russia\n",
      "United States\n"
     ]
    }
   ],
   "source": [
    "#Use Boolean indexing technique to find the required output\n",
    "for key, value in country_and_gold_medals.items():\n",
    "    if value > 20:\n",
    "        print(key)"
   ]
  },
  {
   "cell_type": "markdown",
   "metadata": {},
   "source": [
    "#### Evaluate the dataset and print the name of each country with its gold medals and total number of medals"
   ]
  },
  {
   "cell_type": "code",
   "execution_count": 7,
   "metadata": {
    "collapsed": false,
    "jupyter": {
     "outputs_hidden": false
    }
   },
   "outputs": [
    {
     "name": "stdout",
     "output_type": "stream",
     "text": [
      "Great Britain gold medals: 29\n",
      "China gold medals: 38\n",
      "Russia gold medals: 24\n",
      "United States gold medals: 46\n",
      "Korea gold medals: 13\n",
      "Japan gold medals: 7\n",
      "Germany gold medals: 11\n"
     ]
    }
   ],
   "source": [
    "#Use a for loop to create the required output\n",
    "for key, value in country_and_gold_medals.items():\n",
    "    print(\"{} gold medals: {}\".format(key,value))"
   ]
  },
  {
   "cell_type": "code",
   "execution_count": 10,
   "metadata": {},
   "outputs": [
    {
     "name": "stdout",
     "output_type": "stream",
     "text": [
      "Great Britain, gold medals 29, Total medals 65\n",
      "China, gold medals 38, Total medals 88\n",
      "Russia, gold medals 24, Total medals 81\n",
      "United States, gold medals 46, Total medals 103\n",
      "Korea, gold medals 13, Total medals 28\n",
      "Japan, gold medals 7, Total medals 38\n",
      "Germany, gold medals 11, Total medals 36\n"
     ]
    }
   ],
   "source": [
    "for i in range(len(countries_array)):\n",
    "    gold_medal = gold_medals_array[i]\n",
    "    country = countries_array[i]\n",
    "    total_medal = gold_medals_array[i]+silver_medals_array[i]+bronze_medals_array[i]\n",
    "    print(\"{}, gold medals {}, Total medals {}\".format(country,gold_medal,total_medal))"
   ]
  },
  {
   "cell_type": "code",
   "execution_count": null,
   "metadata": {},
   "outputs": [],
   "source": []
  }
 ],
 "metadata": {
  "kernelspec": {
   "display_name": "Python 3",
   "language": "python",
   "name": "python3"
  },
  "language_info": {
   "codemirror_mode": {
    "name": "ipython",
    "version": 3
   },
   "file_extension": ".py",
   "mimetype": "text/x-python",
   "name": "python",
   "nbconvert_exporter": "python",
   "pygments_lexer": "ipython3",
   "version": "3.8.5"
  }
 },
 "nbformat": 4,
 "nbformat_minor": 4
}
