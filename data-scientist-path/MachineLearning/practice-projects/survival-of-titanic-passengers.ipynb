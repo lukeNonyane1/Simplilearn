{
 "cells": [
  {
   "cell_type": "markdown",
   "metadata": {},
   "source": [
    "### The Titanic dataset provides information on the fate of the passengers on the Titanic, summarized according to economic status, sex, age, and survival. \n",
    "- Our task is to predict the survival of the Titanic passengers."
   ]
  },
  {
   "cell_type": "code",
   "execution_count": 1,
   "metadata": {},
   "outputs": [],
   "source": [
    "import pandas as pd\n",
    "import numpy as np\n",
    "\n",
    "import matplotlib\n",
    "import matplotlib.pyplot as plt\n",
    "from pandas.plotting import scatter_matrix\n",
    "%matplotlib inline\n",
    "\n",
    "import seaborn as sns\n",
    "sns.set(style='white', color_codes=True)\n",
    "sns.set(font_scale=1.5)\n",
    "\n",
    "from sklearn.linear_model import LogisticRegression\n",
    "from sklearn.model_selection import train_test_split\n",
    "\n",
    "from sklearn.metrics import confusion_matrix, classification_report, accuracy_score, precision_score, recall_score, f1_score\n",
    "from sklearn import metrics"
   ]
  },
  {
   "cell_type": "code",
   "execution_count": 2,
   "metadata": {},
   "outputs": [
    {
     "data": {
      "text/plain": [
       "(891, 12)"
      ]
     },
     "execution_count": 2,
     "metadata": {},
     "output_type": "execute_result"
    }
   ],
   "source": [
    "df_train = pd.read_csv('train.csv')\n",
    "df_train.shape"
   ]
  },
  {
   "cell_type": "code",
   "execution_count": 3,
   "metadata": {},
   "outputs": [
    {
     "data": {
      "text/html": [
       "<div>\n",
       "<style scoped>\n",
       "    .dataframe tbody tr th:only-of-type {\n",
       "        vertical-align: middle;\n",
       "    }\n",
       "\n",
       "    .dataframe tbody tr th {\n",
       "        vertical-align: top;\n",
       "    }\n",
       "\n",
       "    .dataframe thead th {\n",
       "        text-align: right;\n",
       "    }\n",
       "</style>\n",
       "<table border=\"1\" class=\"dataframe\">\n",
       "  <thead>\n",
       "    <tr style=\"text-align: right;\">\n",
       "      <th></th>\n",
       "      <th>PassengerId</th>\n",
       "      <th>Survived</th>\n",
       "      <th>Pclass</th>\n",
       "      <th>Name</th>\n",
       "      <th>Sex</th>\n",
       "      <th>Age</th>\n",
       "      <th>SibSp</th>\n",
       "      <th>Parch</th>\n",
       "      <th>Ticket</th>\n",
       "      <th>Fare</th>\n",
       "      <th>Cabin</th>\n",
       "      <th>Embarked</th>\n",
       "    </tr>\n",
       "  </thead>\n",
       "  <tbody>\n",
       "    <tr>\n",
       "      <th>0</th>\n",
       "      <td>1</td>\n",
       "      <td>0</td>\n",
       "      <td>3</td>\n",
       "      <td>Braund, Mr. Owen Harris</td>\n",
       "      <td>male</td>\n",
       "      <td>22.0</td>\n",
       "      <td>1</td>\n",
       "      <td>0</td>\n",
       "      <td>A/5 21171</td>\n",
       "      <td>7.2500</td>\n",
       "      <td>NaN</td>\n",
       "      <td>S</td>\n",
       "    </tr>\n",
       "    <tr>\n",
       "      <th>1</th>\n",
       "      <td>2</td>\n",
       "      <td>1</td>\n",
       "      <td>1</td>\n",
       "      <td>Cumings, Mrs. John Bradley (Florence Briggs Th...</td>\n",
       "      <td>female</td>\n",
       "      <td>38.0</td>\n",
       "      <td>1</td>\n",
       "      <td>0</td>\n",
       "      <td>PC 17599</td>\n",
       "      <td>71.2833</td>\n",
       "      <td>C85</td>\n",
       "      <td>C</td>\n",
       "    </tr>\n",
       "    <tr>\n",
       "      <th>2</th>\n",
       "      <td>3</td>\n",
       "      <td>1</td>\n",
       "      <td>3</td>\n",
       "      <td>Heikkinen, Miss. Laina</td>\n",
       "      <td>female</td>\n",
       "      <td>26.0</td>\n",
       "      <td>0</td>\n",
       "      <td>0</td>\n",
       "      <td>STON/O2. 3101282</td>\n",
       "      <td>7.9250</td>\n",
       "      <td>NaN</td>\n",
       "      <td>S</td>\n",
       "    </tr>\n",
       "    <tr>\n",
       "      <th>3</th>\n",
       "      <td>4</td>\n",
       "      <td>1</td>\n",
       "      <td>1</td>\n",
       "      <td>Futrelle, Mrs. Jacques Heath (Lily May Peel)</td>\n",
       "      <td>female</td>\n",
       "      <td>35.0</td>\n",
       "      <td>1</td>\n",
       "      <td>0</td>\n",
       "      <td>113803</td>\n",
       "      <td>53.1000</td>\n",
       "      <td>C123</td>\n",
       "      <td>S</td>\n",
       "    </tr>\n",
       "    <tr>\n",
       "      <th>4</th>\n",
       "      <td>5</td>\n",
       "      <td>0</td>\n",
       "      <td>3</td>\n",
       "      <td>Allen, Mr. William Henry</td>\n",
       "      <td>male</td>\n",
       "      <td>35.0</td>\n",
       "      <td>0</td>\n",
       "      <td>0</td>\n",
       "      <td>373450</td>\n",
       "      <td>8.0500</td>\n",
       "      <td>NaN</td>\n",
       "      <td>S</td>\n",
       "    </tr>\n",
       "  </tbody>\n",
       "</table>\n",
       "</div>"
      ],
      "text/plain": [
       "   PassengerId  Survived  Pclass  \\\n",
       "0            1         0       3   \n",
       "1            2         1       1   \n",
       "2            3         1       3   \n",
       "3            4         1       1   \n",
       "4            5         0       3   \n",
       "\n",
       "                                                Name     Sex   Age  SibSp  \\\n",
       "0                            Braund, Mr. Owen Harris    male  22.0      1   \n",
       "1  Cumings, Mrs. John Bradley (Florence Briggs Th...  female  38.0      1   \n",
       "2                             Heikkinen, Miss. Laina  female  26.0      0   \n",
       "3       Futrelle, Mrs. Jacques Heath (Lily May Peel)  female  35.0      1   \n",
       "4                           Allen, Mr. William Henry    male  35.0      0   \n",
       "\n",
       "   Parch            Ticket     Fare Cabin Embarked  \n",
       "0      0         A/5 21171   7.2500   NaN        S  \n",
       "1      0          PC 17599  71.2833   C85        C  \n",
       "2      0  STON/O2. 3101282   7.9250   NaN        S  \n",
       "3      0            113803  53.1000  C123        S  \n",
       "4      0            373450   8.0500   NaN        S  "
      ]
     },
     "execution_count": 3,
     "metadata": {},
     "output_type": "execute_result"
    }
   ],
   "source": [
    "df_train.head()"
   ]
  },
  {
   "cell_type": "code",
   "execution_count": 4,
   "metadata": {},
   "outputs": [
    {
     "data": {
      "text/plain": [
       "0    549\n",
       "1    342\n",
       "Name: Survived, dtype: int64"
      ]
     },
     "execution_count": 4,
     "metadata": {},
     "output_type": "execute_result"
    }
   ],
   "source": [
    "df_train.Survived.value_counts()"
   ]
  },
  {
   "cell_type": "code",
   "execution_count": 5,
   "metadata": {},
   "outputs": [
    {
     "data": {
      "text/plain": [
       "male      577\n",
       "female    314\n",
       "Name: Sex, dtype: int64"
      ]
     },
     "execution_count": 5,
     "metadata": {},
     "output_type": "execute_result"
    }
   ],
   "source": [
    "df_train.Sex.value_counts()"
   ]
  },
  {
   "cell_type": "code",
   "execution_count": 6,
   "metadata": {},
   "outputs": [
    {
     "data": {
      "text/plain": [
       "S    644\n",
       "C    168\n",
       "Q     77\n",
       "Name: Embarked, dtype: int64"
      ]
     },
     "execution_count": 6,
     "metadata": {},
     "output_type": "execute_result"
    }
   ],
   "source": [
    "df_train.Embarked.value_counts() # city ports passengers embarked from (Southhampton, Cherbourg, Queens town)"
   ]
  },
  {
   "cell_type": "code",
   "execution_count": 7,
   "metadata": {},
   "outputs": [
    {
     "data": {
      "text/plain": [
       "PassengerId      0\n",
       "Survived         0\n",
       "Pclass           0\n",
       "Name             0\n",
       "Sex              0\n",
       "Age            177\n",
       "SibSp            0\n",
       "Parch            0\n",
       "Ticket           0\n",
       "Fare             0\n",
       "Cabin          687\n",
       "Embarked         2\n",
       "dtype: int64"
      ]
     },
     "execution_count": 7,
     "metadata": {},
     "output_type": "execute_result"
    }
   ],
   "source": [
    "# check for missing values\n",
    "df_train.isnull().sum()"
   ]
  },
  {
   "cell_type": "code",
   "execution_count": 8,
   "metadata": {},
   "outputs": [
    {
     "data": {
      "text/html": [
       "<div>\n",
       "<style scoped>\n",
       "    .dataframe tbody tr th:only-of-type {\n",
       "        vertical-align: middle;\n",
       "    }\n",
       "\n",
       "    .dataframe tbody tr th {\n",
       "        vertical-align: top;\n",
       "    }\n",
       "\n",
       "    .dataframe thead th {\n",
       "        text-align: right;\n",
       "    }\n",
       "</style>\n",
       "<table border=\"1\" class=\"dataframe\">\n",
       "  <thead>\n",
       "    <tr style=\"text-align: right;\">\n",
       "      <th></th>\n",
       "      <th>Survived</th>\n",
       "      <th>Pclass</th>\n",
       "      <th>Sex</th>\n",
       "      <th>Age</th>\n",
       "      <th>SibSp</th>\n",
       "      <th>Parch</th>\n",
       "      <th>Embarked</th>\n",
       "    </tr>\n",
       "  </thead>\n",
       "  <tbody>\n",
       "    <tr>\n",
       "      <th>0</th>\n",
       "      <td>0</td>\n",
       "      <td>3</td>\n",
       "      <td>male</td>\n",
       "      <td>22.0</td>\n",
       "      <td>1</td>\n",
       "      <td>0</td>\n",
       "      <td>S</td>\n",
       "    </tr>\n",
       "    <tr>\n",
       "      <th>1</th>\n",
       "      <td>1</td>\n",
       "      <td>1</td>\n",
       "      <td>female</td>\n",
       "      <td>38.0</td>\n",
       "      <td>1</td>\n",
       "      <td>0</td>\n",
       "      <td>C</td>\n",
       "    </tr>\n",
       "    <tr>\n",
       "      <th>2</th>\n",
       "      <td>1</td>\n",
       "      <td>3</td>\n",
       "      <td>female</td>\n",
       "      <td>26.0</td>\n",
       "      <td>0</td>\n",
       "      <td>0</td>\n",
       "      <td>S</td>\n",
       "    </tr>\n",
       "    <tr>\n",
       "      <th>3</th>\n",
       "      <td>1</td>\n",
       "      <td>1</td>\n",
       "      <td>female</td>\n",
       "      <td>35.0</td>\n",
       "      <td>1</td>\n",
       "      <td>0</td>\n",
       "      <td>S</td>\n",
       "    </tr>\n",
       "    <tr>\n",
       "      <th>4</th>\n",
       "      <td>0</td>\n",
       "      <td>3</td>\n",
       "      <td>male</td>\n",
       "      <td>35.0</td>\n",
       "      <td>0</td>\n",
       "      <td>0</td>\n",
       "      <td>S</td>\n",
       "    </tr>\n",
       "  </tbody>\n",
       "</table>\n",
       "</div>"
      ],
      "text/plain": [
       "   Survived  Pclass     Sex   Age  SibSp  Parch Embarked\n",
       "0         0       3    male  22.0      1      0        S\n",
       "1         1       1  female  38.0      1      0        C\n",
       "2         1       3  female  26.0      0      0        S\n",
       "3         1       1  female  35.0      1      0        S\n",
       "4         0       3    male  35.0      0      0        S"
      ]
     },
     "execution_count": 8,
     "metadata": {},
     "output_type": "execute_result"
    }
   ],
   "source": [
    "# cabin has almost 80% missing values; drop variables that do not provide meaningful insights to prediction\n",
    "df_train = df_train.drop(['PassengerId', 'Name', 'Ticket', 'Cabin', 'Fare'], axis=1)\n",
    "df_train.head()"
   ]
  },
  {
   "cell_type": "code",
   "execution_count": 9,
   "metadata": {},
   "outputs": [],
   "source": [
    "# deal with missing values in Age variable\n",
    "def age_approx(cols):\n",
    "    Age = cols[0]\n",
    "    Pclass = cols[1]\n",
    "    \n",
    "    if pd.isnull(Age):\n",
    "        if Pclass == 1:\n",
    "            return 37\n",
    "        elif Pclass == 2:\n",
    "            return 29\n",
    "        else:\n",
    "            return 24\n",
    "    else:\n",
    "        return Age"
   ]
  },
  {
   "cell_type": "code",
   "execution_count": 10,
   "metadata": {},
   "outputs": [
    {
     "data": {
      "text/html": [
       "<div>\n",
       "<style scoped>\n",
       "    .dataframe tbody tr th:only-of-type {\n",
       "        vertical-align: middle;\n",
       "    }\n",
       "\n",
       "    .dataframe tbody tr th {\n",
       "        vertical-align: top;\n",
       "    }\n",
       "\n",
       "    .dataframe thead th {\n",
       "        text-align: right;\n",
       "    }\n",
       "</style>\n",
       "<table border=\"1\" class=\"dataframe\">\n",
       "  <thead>\n",
       "    <tr style=\"text-align: right;\">\n",
       "      <th></th>\n",
       "      <th>Survived</th>\n",
       "      <th>Age</th>\n",
       "      <th>SibSp</th>\n",
       "      <th>Parch</th>\n",
       "    </tr>\n",
       "    <tr>\n",
       "      <th>Pclass</th>\n",
       "      <th></th>\n",
       "      <th></th>\n",
       "      <th></th>\n",
       "      <th></th>\n",
       "    </tr>\n",
       "  </thead>\n",
       "  <tbody>\n",
       "    <tr>\n",
       "      <th>1</th>\n",
       "      <td>0.629630</td>\n",
       "      <td>38.233441</td>\n",
       "      <td>0.416667</td>\n",
       "      <td>0.356481</td>\n",
       "    </tr>\n",
       "    <tr>\n",
       "      <th>2</th>\n",
       "      <td>0.472826</td>\n",
       "      <td>29.877630</td>\n",
       "      <td>0.402174</td>\n",
       "      <td>0.380435</td>\n",
       "    </tr>\n",
       "    <tr>\n",
       "      <th>3</th>\n",
       "      <td>0.242363</td>\n",
       "      <td>25.140620</td>\n",
       "      <td>0.615071</td>\n",
       "      <td>0.393075</td>\n",
       "    </tr>\n",
       "  </tbody>\n",
       "</table>\n",
       "</div>"
      ],
      "text/plain": [
       "        Survived        Age     SibSp     Parch\n",
       "Pclass                                         \n",
       "1       0.629630  38.233441  0.416667  0.356481\n",
       "2       0.472826  29.877630  0.402174  0.380435\n",
       "3       0.242363  25.140620  0.615071  0.393075"
      ]
     },
     "execution_count": 10,
     "metadata": {},
     "output_type": "execute_result"
    }
   ],
   "source": [
    "df_train.groupby(['Pclass']).mean()"
   ]
  },
  {
   "cell_type": "code",
   "execution_count": 11,
   "metadata": {},
   "outputs": [],
   "source": [
    "df_train['Age'] = df_train[['Age', 'Pclass']].apply(age_approx, axis=1)"
   ]
  },
  {
   "cell_type": "code",
   "execution_count": 12,
   "metadata": {},
   "outputs": [
    {
     "data": {
      "text/plain": [
       "Survived    0\n",
       "Pclass      0\n",
       "Sex         0\n",
       "Age         0\n",
       "SibSp       0\n",
       "Parch       0\n",
       "Embarked    2\n",
       "dtype: int64"
      ]
     },
     "execution_count": 12,
     "metadata": {},
     "output_type": "execute_result"
    }
   ],
   "source": [
    "# veify is null variables are present after transformation\n",
    "df_train.isnull().sum()"
   ]
  },
  {
   "cell_type": "code",
   "execution_count": 13,
   "metadata": {},
   "outputs": [
    {
     "data": {
      "text/plain": [
       "Survived    0\n",
       "Pclass      0\n",
       "Sex         0\n",
       "Age         0\n",
       "SibSp       0\n",
       "Parch       0\n",
       "Embarked    0\n",
       "dtype: int64"
      ]
     },
     "execution_count": 13,
     "metadata": {},
     "output_type": "execute_result"
    }
   ],
   "source": [
    "# drop the two null records on Embarked\n",
    "df_train.dropna(inplace=True)\n",
    "df_train.isnull().sum()"
   ]
  },
  {
   "cell_type": "code",
   "execution_count": 14,
   "metadata": {},
   "outputs": [
    {
     "data": {
      "text/plain": [
       "Survived      int64\n",
       "Pclass        int64\n",
       "Sex          object\n",
       "Age         float64\n",
       "SibSp         int64\n",
       "Parch         int64\n",
       "Embarked     object\n",
       "dtype: object"
      ]
     },
     "execution_count": 14,
     "metadata": {},
     "output_type": "execute_result"
    }
   ],
   "source": [
    "# column data types\n",
    "df_train.dtypes"
   ]
  },
  {
   "cell_type": "code",
   "execution_count": 15,
   "metadata": {},
   "outputs": [],
   "source": [
    "# convert Sex and Embarked to categorical\n",
    "df_train_dummied = pd.get_dummies(df_train, columns=['Sex', 'Embarked'])"
   ]
  },
  {
   "cell_type": "code",
   "execution_count": 16,
   "metadata": {},
   "outputs": [
    {
     "data": {
      "text/html": [
       "<div>\n",
       "<style scoped>\n",
       "    .dataframe tbody tr th:only-of-type {\n",
       "        vertical-align: middle;\n",
       "    }\n",
       "\n",
       "    .dataframe tbody tr th {\n",
       "        vertical-align: top;\n",
       "    }\n",
       "\n",
       "    .dataframe thead th {\n",
       "        text-align: right;\n",
       "    }\n",
       "</style>\n",
       "<table border=\"1\" class=\"dataframe\">\n",
       "  <thead>\n",
       "    <tr style=\"text-align: right;\">\n",
       "      <th></th>\n",
       "      <th>Survived</th>\n",
       "      <th>Pclass</th>\n",
       "      <th>Age</th>\n",
       "      <th>SibSp</th>\n",
       "      <th>Parch</th>\n",
       "      <th>Sex_female</th>\n",
       "      <th>Sex_male</th>\n",
       "      <th>Embarked_C</th>\n",
       "      <th>Embarked_Q</th>\n",
       "      <th>Embarked_S</th>\n",
       "    </tr>\n",
       "  </thead>\n",
       "  <tbody>\n",
       "    <tr>\n",
       "      <th>0</th>\n",
       "      <td>0</td>\n",
       "      <td>3</td>\n",
       "      <td>22.0</td>\n",
       "      <td>1</td>\n",
       "      <td>0</td>\n",
       "      <td>0</td>\n",
       "      <td>1</td>\n",
       "      <td>0</td>\n",
       "      <td>0</td>\n",
       "      <td>1</td>\n",
       "    </tr>\n",
       "    <tr>\n",
       "      <th>1</th>\n",
       "      <td>1</td>\n",
       "      <td>1</td>\n",
       "      <td>38.0</td>\n",
       "      <td>1</td>\n",
       "      <td>0</td>\n",
       "      <td>1</td>\n",
       "      <td>0</td>\n",
       "      <td>1</td>\n",
       "      <td>0</td>\n",
       "      <td>0</td>\n",
       "    </tr>\n",
       "    <tr>\n",
       "      <th>2</th>\n",
       "      <td>1</td>\n",
       "      <td>3</td>\n",
       "      <td>26.0</td>\n",
       "      <td>0</td>\n",
       "      <td>0</td>\n",
       "      <td>1</td>\n",
       "      <td>0</td>\n",
       "      <td>0</td>\n",
       "      <td>0</td>\n",
       "      <td>1</td>\n",
       "    </tr>\n",
       "    <tr>\n",
       "      <th>3</th>\n",
       "      <td>1</td>\n",
       "      <td>1</td>\n",
       "      <td>35.0</td>\n",
       "      <td>1</td>\n",
       "      <td>0</td>\n",
       "      <td>1</td>\n",
       "      <td>0</td>\n",
       "      <td>0</td>\n",
       "      <td>0</td>\n",
       "      <td>1</td>\n",
       "    </tr>\n",
       "    <tr>\n",
       "      <th>4</th>\n",
       "      <td>0</td>\n",
       "      <td>3</td>\n",
       "      <td>35.0</td>\n",
       "      <td>0</td>\n",
       "      <td>0</td>\n",
       "      <td>0</td>\n",
       "      <td>1</td>\n",
       "      <td>0</td>\n",
       "      <td>0</td>\n",
       "      <td>1</td>\n",
       "    </tr>\n",
       "  </tbody>\n",
       "</table>\n",
       "</div>"
      ],
      "text/plain": [
       "   Survived  Pclass   Age  SibSp  Parch  Sex_female  Sex_male  Embarked_C  \\\n",
       "0         0       3  22.0      1      0           0         1           0   \n",
       "1         1       1  38.0      1      0           1         0           1   \n",
       "2         1       3  26.0      0      0           1         0           0   \n",
       "3         1       1  35.0      1      0           1         0           0   \n",
       "4         0       3  35.0      0      0           0         1           0   \n",
       "\n",
       "   Embarked_Q  Embarked_S  \n",
       "0           0           1  \n",
       "1           0           0  \n",
       "2           0           1  \n",
       "3           0           1  \n",
       "4           0           1  "
      ]
     },
     "execution_count": 16,
     "metadata": {},
     "output_type": "execute_result"
    }
   ],
   "source": [
    "df_train_dummied.head()"
   ]
  },
  {
   "cell_type": "code",
   "execution_count": 17,
   "metadata": {},
   "outputs": [
    {
     "data": {
      "text/plain": [
       "<AxesSubplot:>"
      ]
     },
     "execution_count": 17,
     "metadata": {},
     "output_type": "execute_result"
    },
    {
     "data": {
      "image/png": "[encoded data removed]",
      "text/plain": [
       "<Figure size 432x288 with 2 Axes>"
      ]
     },
     "metadata": {},
     "output_type": "display_data"
    }
   ],
   "source": [
    "# find out if variables are correlated\n",
    "plt.figure(figsize=(6,4))\n",
    "sns.heatmap(df_train_dummied.corr())"
   ]
  },
  {
   "cell_type": "markdown",
   "metadata": {},
   "source": [
    "There is a strong correlation between Survived and Sex_female variables."
   ]
  },
  {
   "cell_type": "code",
   "execution_count": 20,
   "metadata": {},
   "outputs": [],
   "source": [
    "used_features = ['Pclass', 'Age', 'SibSp', 'Parch', 'Sex_female', 'Sex_male', 'Embarked_C', 'Embarked_Q', 'Embarked_S']\n",
    "X = df_train_dummied[used_features].values\n",
    "y = df_train_dummied['Survived']"
   ]
  },
  {
   "cell_type": "code",
   "execution_count": 21,
   "metadata": {},
   "outputs": [],
   "source": [
    "# create train and test datasets\n",
    "X_train, X_test, y_train, y_test = train_test_split(X, y, test_size=0.3, random_state=1)"
   ]
  },
  {
   "cell_type": "code",
   "execution_count": 22,
   "metadata": {},
   "outputs": [
    {
     "name": "stdout",
     "output_type": "stream",
     "text": [
      "(622, 9)\n",
      "(267, 9)\n",
      "(622,)\n",
      "(267,)\n"
     ]
    }
   ],
   "source": [
    "# check shape of train and test datasets\n",
    "print(X_train.shape)\n",
    "print(X_test.shape)\n",
    "print(y_train.shape)\n",
    "print(y_test.shape)"
   ]
  },
  {
   "cell_type": "code",
   "execution_count": 23,
   "metadata": {},
   "outputs": [],
   "source": [
    "LogReg = LogisticRegression()"
   ]
  },
  {
   "cell_type": "code",
   "execution_count": 26,
   "metadata": {},
   "outputs": [
    {
     "name": "stdout",
     "output_type": "stream",
     "text": [
      "[[143  23]\n",
      " [ 22  79]]\n",
      "              precision    recall  f1-score   support\n",
      "\n",
      "           0       0.87      0.86      0.86       166\n",
      "           1       0.77      0.78      0.78       101\n",
      "\n",
      "    accuracy                           0.83       267\n",
      "   macro avg       0.82      0.82      0.82       267\n",
      "weighted avg       0.83      0.83      0.83       267\n",
      "\n"
     ]
    },
    {
     "name": "stderr",
     "output_type": "stream",
     "text": [
      "/opt/anaconda3/lib/python3.8/site-packages/sklearn/linear_model/_logistic.py:762: ConvergenceWarning: lbfgs failed to converge (status=1):\n",
      "STOP: TOTAL NO. of ITERATIONS REACHED LIMIT.\n",
      "\n",
      "Increase the number of iterations (max_iter) or scale the data as shown in:\n",
      "    https://scikit-learn.org/stable/modules/preprocessing.html\n",
      "Please also refer to the documentation for alternative solver options:\n",
      "    https://scikit-learn.org/stable/modules/linear_model.html#logistic-regression\n",
      "  n_iter_i = _check_optimize_result(\n"
     ]
    }
   ],
   "source": [
    "# fit training data\n",
    "LogReg.fit(X_train, y_train)\n",
    "\n",
    "# pred on test data\n",
    "pred = LogReg.predict(X_test)\n",
    "\n",
    "# confusion matrix\n",
    "conf_matrix = confusion_matrix(y_test, pred)\n",
    "print(conf_matrix)\n",
    "\n",
    "# classification report\n",
    "print(classification_report(y_test, pred))"
   ]
  },
  {
   "cell_type": "code",
   "execution_count": 27,
   "metadata": {},
   "outputs": [
    {
     "data": {
      "text/plain": [
       "array([[0.26620494, 0.73379506],\n",
       "       [0.39786609, 0.60213391],\n",
       "       [0.94764218, 0.05235782],\n",
       "       [0.25830925, 0.74169075],\n",
       "       [0.94363767, 0.05636233],\n",
       "       [0.13527111, 0.86472889],\n",
       "       [0.33342571, 0.66657429],\n",
       "       [0.517467  , 0.482533  ],\n",
       "       [0.78020431, 0.21979569],\n",
       "       [0.40803149, 0.59196851],\n",
       "       [0.74098184, 0.25901816],\n",
       "       [0.21067256, 0.78932744],\n",
       "       [0.74871395, 0.25128605],\n",
       "       [0.14493814, 0.85506186],\n",
       "       [0.86457882, 0.13542118],\n",
       "       [0.36995257, 0.63004743],\n",
       "       [0.89369259, 0.10630741],\n",
       "       [0.29866731, 0.70133269],\n",
       "       [0.17717813, 0.82282187],\n",
       "       [0.3974597 , 0.6025403 ],\n",
       "       [0.90504923, 0.09495077],\n",
       "       [0.55243537, 0.44756463],\n",
       "       [0.86463292, 0.13536708],\n",
       "       [0.93689125, 0.06310875],\n",
       "       [0.51594489, 0.48405511],\n",
       "       [0.51717993, 0.48282007],\n",
       "       [0.03900859, 0.96099141],\n",
       "       [0.86920304, 0.13079696],\n",
       "       [0.898032  , 0.101968  ],\n",
       "       [0.32428417, 0.67571583],\n",
       "       [0.38882245, 0.61117755],\n",
       "       [0.40683747, 0.59316253],\n",
       "       [0.15508195, 0.84491805],\n",
       "       [0.41248303, 0.58751697],\n",
       "       [0.59139983, 0.40860017],\n",
       "       [0.16587755, 0.83412245],\n",
       "       [0.65731943, 0.34268057],\n",
       "       [0.87369242, 0.12630758],\n",
       "       [0.24329599, 0.75670401],\n",
       "       [0.57510239, 0.42489761],\n",
       "       [0.43659028, 0.56340972],\n",
       "       [0.91175454, 0.08824546],\n",
       "       [0.31444903, 0.68555097],\n",
       "       [0.87369242, 0.12630758],\n",
       "       [0.79765473, 0.20234527],\n",
       "       [0.23608321, 0.76391679],\n",
       "       [0.17141074, 0.82858926],\n",
       "       [0.81645968, 0.18354032],\n",
       "       [0.06077262, 0.93922738],\n",
       "       [0.92379743, 0.07620257],\n",
       "       [0.87369242, 0.12630758],\n",
       "       [0.42631571, 0.57368429],\n",
       "       [0.8824189 , 0.1175811 ],\n",
       "       [0.09136654, 0.90863346],\n",
       "       [0.74871395, 0.25128605],\n",
       "       [0.07049075, 0.92950925],\n",
       "       [0.77765907, 0.22234093],\n",
       "       [0.95116601, 0.04883399],\n",
       "       [0.70083941, 0.29916059],\n",
       "       [0.93685725, 0.06314275],\n",
       "       [0.81636834, 0.18363166],\n",
       "       [0.85981749, 0.14018251],\n",
       "       [0.59139983, 0.40860017],\n",
       "       [0.87369242, 0.12630758],\n",
       "       [0.42631571, 0.57368429],\n",
       "       [0.23599365, 0.76400635],\n",
       "       [0.87369242, 0.12630758],\n",
       "       [0.91171735, 0.08828265],\n",
       "       [0.84433819, 0.15566181],\n",
       "       [0.05418106, 0.94581894],\n",
       "       [0.86382542, 0.13617458],\n",
       "       [0.05627194, 0.94372806],\n",
       "       [0.65318083, 0.34681917],\n",
       "       [0.85981749, 0.14018251],\n",
       "       [0.31572324, 0.68427676],\n",
       "       [0.13527111, 0.86472889],\n",
       "       [0.83917745, 0.16082255],\n",
       "       [0.92387282, 0.07612718],\n",
       "       [0.82453818, 0.17546182],\n",
       "       [0.83379652, 0.16620348],\n",
       "       [0.83917745, 0.16082255],\n",
       "       [0.86457882, 0.13542118],\n",
       "       [0.03900859, 0.96099141],\n",
       "       [0.05928293, 0.94071707],\n",
       "       [0.76349201, 0.23650799],\n",
       "       [0.62010376, 0.37989624],\n",
       "       [0.43755872, 0.56244128],\n",
       "       [0.42593223, 0.57406777],\n",
       "       [0.87369242, 0.12630758],\n",
       "       [0.36995257, 0.63004743],\n",
       "       [0.89793384, 0.10206616],\n",
       "       [0.32428417, 0.67571583],\n",
       "       [0.93440928, 0.06559072],\n",
       "       [0.78028947, 0.21971053],\n",
       "       [0.24621186, 0.75378814],\n",
       "       [0.83942093, 0.16057907],\n",
       "       [0.22903944, 0.77096056],\n",
       "       [0.27422111, 0.72577889],\n",
       "       [0.24621186, 0.75378814],\n",
       "       [0.21509077, 0.78490923],\n",
       "       [0.84987478, 0.15012522],\n",
       "       [0.34203879, 0.65796121],\n",
       "       [0.60470556, 0.39529444],\n",
       "       [0.85491684, 0.14508316],\n",
       "       [0.85491684, 0.14508316],\n",
       "       [0.90528252, 0.09471748],\n",
       "       [0.13686948, 0.86313052],\n",
       "       [0.84987478, 0.15012522],\n",
       "       [0.76623963, 0.23376037],\n",
       "       [0.81645968, 0.18354032],\n",
       "       [0.63904365, 0.36095635],\n",
       "       [0.74871395, 0.25128605],\n",
       "       [0.78028947, 0.21971053],\n",
       "       [0.18548494, 0.81451506],\n",
       "       [0.36040561, 0.63959439],\n",
       "       [0.08595014, 0.91404986],\n",
       "       [0.91497986, 0.08502014],\n",
       "       [0.40803149, 0.59196851],\n",
       "       [0.06397367, 0.93602633],\n",
       "       [0.79120958, 0.20879042],\n",
       "       [0.87804933, 0.12195067],\n",
       "       [0.20443362, 0.79556638],\n",
       "       [0.32428417, 0.67571583],\n",
       "       [0.50226373, 0.49773627],\n",
       "       [0.20821944, 0.79178056],\n",
       "       [0.89229093, 0.10770907],\n",
       "       [0.44201704, 0.55798296],\n",
       "       [0.90862244, 0.09137756],\n",
       "       [0.8822762 , 0.1177238 ],\n",
       "       [0.57709514, 0.42290486],\n",
       "       [0.44751249, 0.55248751],\n",
       "       [0.60470556, 0.39529444],\n",
       "       [0.87765978, 0.12234022],\n",
       "       [0.59139983, 0.40860017],\n",
       "       [0.36995257, 0.63004743],\n",
       "       [0.0706639 , 0.9293361 ],\n",
       "       [0.85981749, 0.14018251],\n",
       "       [0.92657125, 0.07342875],\n",
       "       [0.87369242, 0.12630758],\n",
       "       [0.89034984, 0.10965016],\n",
       "       [0.85974403, 0.14025597],\n",
       "       [0.31595477, 0.68404523],\n",
       "       [0.92379743, 0.07620257],\n",
       "       [0.38907711, 0.61092289],\n",
       "       [0.59139983, 0.40860017],\n",
       "       [0.69145309, 0.30854691],\n",
       "       [0.17811931, 0.82188069],\n",
       "       [0.10681924, 0.89318076],\n",
       "       [0.078901  , 0.921099  ],\n",
       "       [0.92913079, 0.07086921],\n",
       "       [0.85508726, 0.14491274],\n",
       "       [0.93675979, 0.06324021],\n",
       "       [0.1418779 , 0.8581221 ],\n",
       "       [0.84987478, 0.15012522],\n",
       "       [0.37817819, 0.62182181],\n",
       "       [0.36995257, 0.63004743],\n",
       "       [0.7911089 , 0.2088911 ],\n",
       "       [0.36997079, 0.63002921],\n",
       "       [0.89034984, 0.10965016],\n",
       "       [0.87369242, 0.12630758],\n",
       "       [0.50226373, 0.49773627],\n",
       "       [0.77065237, 0.22934763],\n",
       "       [0.57709514, 0.42290486],\n",
       "       [0.86917215, 0.13082785],\n",
       "       [0.87362516, 0.12637484],\n",
       "       [0.83388094, 0.16611906],\n",
       "       [0.13699611, 0.86300389],\n",
       "       [0.05933835, 0.94066165],\n",
       "       [0.77802938, 0.22197062],\n",
       "       [0.23571103, 0.76428897],\n",
       "       [0.84987478, 0.15012522],\n",
       "       [0.89803916, 0.10196084],\n",
       "       [0.83917745, 0.16082255],\n",
       "       [0.87369242, 0.12630758],\n",
       "       [0.67838124, 0.32161876],\n",
       "       [0.28944807, 0.71055193],\n",
       "       [0.86457882, 0.13542118],\n",
       "       [0.70917406, 0.29082594],\n",
       "       [0.87369242, 0.12630758],\n",
       "       [0.84987478, 0.15012522],\n",
       "       [0.83917745, 0.16082255],\n",
       "       [0.87369242, 0.12630758],\n",
       "       [0.6506174 , 0.3493826 ],\n",
       "       [0.93201418, 0.06798582],\n",
       "       [0.32428417, 0.67571583],\n",
       "       [0.82593124, 0.17406876],\n",
       "       [0.37927794, 0.62072206],\n",
       "       [0.58168089, 0.41831911],\n",
       "       [0.22901345, 0.77098655],\n",
       "       [0.90504923, 0.09495077],\n",
       "       [0.75626403, 0.24373597],\n",
       "       [0.71746384, 0.28253616],\n",
       "       [0.86457882, 0.13542118],\n",
       "       [0.76368544, 0.23631456],\n",
       "       [0.93673037, 0.06326963],\n",
       "       [0.74859929, 0.25140071],\n",
       "       [0.897941  , 0.102059  ],\n",
       "       [0.2906568 , 0.7093432 ],\n",
       "       [0.59139983, 0.40860017],\n",
       "       [0.06532043, 0.93467957],\n",
       "       [0.70087935, 0.29912065],\n",
       "       [0.18318786, 0.81681214],\n",
       "       [0.77749325, 0.22250675],\n",
       "       [0.54603028, 0.45396972],\n",
       "       [0.04730301, 0.95269699],\n",
       "       [0.89034984, 0.10965016],\n",
       "       [0.87588728, 0.12411272],\n",
       "       [0.32454627, 0.67545373],\n",
       "       [0.80964485, 0.19035515],\n",
       "       [0.08809338, 0.91190662],\n",
       "       [0.83917745, 0.16082255],\n",
       "       [0.74109877, 0.25890123],\n",
       "       [0.78028947, 0.21971053],\n",
       "       [0.76623963, 0.23376037],\n",
       "       [0.30643505, 0.69356495],\n",
       "       [0.19531341, 0.80468659],\n",
       "       [0.75617884, 0.24382116],\n",
       "       [0.19153945, 0.80846055],\n",
       "       [0.91489038, 0.08510962],\n",
       "       [0.69246793, 0.30753207],\n",
       "       [0.86917215, 0.13082785],\n",
       "       [0.4968995 , 0.5031005 ],\n",
       "       [0.66944046, 0.33055954],\n",
       "       [0.2219342 , 0.7780658 ],\n",
       "       [0.24358481, 0.75641519],\n",
       "       [0.86457882, 0.13542118],\n",
       "       [0.5719257 , 0.4280743 ],\n",
       "       [0.83917745, 0.16082255],\n",
       "       [0.78708309, 0.21291691],\n",
       "       [0.7484188 , 0.2515812 ],\n",
       "       [0.37927794, 0.62072206],\n",
       "       [0.29372086, 0.70627914],\n",
       "       [0.46662295, 0.53337705],\n",
       "       [0.83917745, 0.16082255],\n",
       "       [0.89793384, 0.10206616],\n",
       "       [0.8904544 , 0.1095456 ],\n",
       "       [0.87369242, 0.12630758],\n",
       "       [0.79784579, 0.20215421],\n",
       "       [0.34977043, 0.65022957],\n",
       "       [0.87804933, 0.12195067],\n",
       "       [0.29866731, 0.70133269],\n",
       "       [0.83917745, 0.16082255],\n",
       "       [0.84987478, 0.15012522],\n",
       "       [0.66967752, 0.33032248],\n",
       "       [0.51705591, 0.48294409],\n",
       "       [0.09821843, 0.90178157],\n",
       "       [0.13216328, 0.86783672],\n",
       "       [0.79800039, 0.20199961],\n",
       "       [0.69223971, 0.30776029],\n",
       "       [0.87381061, 0.12618939],\n",
       "       [0.24298668, 0.75701332],\n",
       "       [0.32428417, 0.67571583],\n",
       "       [0.39838787, 0.60161213],\n",
       "       [0.94125865, 0.05874135],\n",
       "       [0.10942057, 0.89057943],\n",
       "       [0.22477021, 0.77522979],\n",
       "       [0.8822762 , 0.1177238 ],\n",
       "       [0.90504923, 0.09495077],\n",
       "       [0.03889119, 0.96110881],\n",
       "       [0.78028947, 0.21971053],\n",
       "       [0.20186742, 0.79813258],\n",
       "       [0.87354413, 0.12645587],\n",
       "       [0.65696611, 0.34303389],\n",
       "       [0.87369242, 0.12630758],\n",
       "       [0.29372086, 0.70627914],\n",
       "       [0.83917745, 0.16082255],\n",
       "       [0.91155101, 0.08844899]])"
      ]
     },
     "execution_count": 27,
     "metadata": {},
     "output_type": "execute_result"
    }
   ],
   "source": [
    "LogReg.predict_proba(X_test)"
   ]
  },
  {
   "cell_type": "code",
   "execution_count": null,
   "metadata": {},
   "outputs": [],
   "source": []
  }
 ],
 "metadata": {
  "kernelspec": {
   "display_name": "Python 3",
   "language": "python",
   "name": "python3"
  },
  "language_info": {
   "codemirror_mode": {
    "name": "ipython",
    "version": 3
   },
   "file_extension": ".py",
   "mimetype": "text/x-python",
   "name": "python",
   "nbconvert_exporter": "python",
   "pygments_lexer": "ipython3",
   "version": "3.8.5"
  }
 },
 "nbformat": 4,
 "nbformat_minor": 4
}
